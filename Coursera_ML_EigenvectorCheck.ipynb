{
 "cells": [
  {
   "cell_type": "code",
   "execution_count": 3,
   "metadata": {},
   "outputs": [],
   "source": [
    "import numpy as np\n",
    "import numpy.linalg as la"
   ]
  },
  {
   "cell_type": "code",
   "execution_count": 55,
   "metadata": {},
   "outputs": [
    {
     "name": "stdout",
     "output_type": "stream",
     "text": [
      "[[-3  8]\n",
      " [ 2  3]]\n"
     ]
    }
   ],
   "source": [
    "A = np.array([[-3,8],[2,3]])\n",
    "print(A)"
   ]
  },
  {
   "cell_type": "code",
   "execution_count": 56,
   "metadata": {},
   "outputs": [
    {
     "name": "stdout",
     "output_type": "stream",
     "text": [
      "-5\n"
     ]
    }
   ],
   "source": [
    "l = -5\n",
    "print(l)"
   ]
  },
  {
   "cell_type": "code",
   "execution_count": 69,
   "metadata": {},
   "outputs": [
    {
     "name": "stdout",
     "output_type": "stream",
     "text": [
      "[[16]\n",
      " [ 6]]\n",
      "[[  0]\n",
      " [-10]]\n",
      "This is not an eigenvector\n"
     ]
    }
   ],
   "source": [
    "x = np.array([[0],[2]])\n",
    "\n",
    "test = A @ x\n",
    "test2 = l * x\n",
    "\n",
    "print(test)\n",
    "print(test2)\n",
    "\n",
    "if (test[0] == test2[0]) and (test[1] == test2[1]):\n",
    "    print('This is an eigenvector, check 1')\n",
    "else:\n",
    "    if (test2[0] % test[0] == 0) and (test2[1] % test[1] == 0):\n",
    "        print('This is an eigenvector, check 2')\n",
    "    else:\n",
    "         print('This is not an eigenvector')\n",
    "    "
   ]
  },
  {
   "cell_type": "code",
   "execution_count": 63,
   "metadata": {},
   "outputs": [
    {
     "data": {
      "text/plain": [
       "5"
      ]
     },
     "execution_count": 63,
     "metadata": {},
     "output_type": "execute_result"
    }
   ],
   "source": [
    "#test[0] % test2[0]\n",
    "\n",
    "35%6"
   ]
  },
  {
   "cell_type": "code",
   "execution_count": null,
   "metadata": {},
   "outputs": [],
   "source": []
  }
 ],
 "metadata": {
  "kernelspec": {
   "display_name": "Python 3",
   "language": "python",
   "name": "python3"
  },
  "language_info": {
   "codemirror_mode": {
    "name": "ipython",
    "version": 3
   },
   "file_extension": ".py",
   "mimetype": "text/x-python",
   "name": "python",
   "nbconvert_exporter": "python",
   "pygments_lexer": "ipython3",
   "version": "3.7.1"
  }
 },
 "nbformat": 4,
 "nbformat_minor": 2
}
